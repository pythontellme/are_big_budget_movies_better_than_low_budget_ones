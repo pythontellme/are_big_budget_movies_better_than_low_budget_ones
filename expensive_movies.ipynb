{
 "cells": [
  {
   "cell_type": "markdown",
   "metadata": {},
   "source": [
    "# ARE BIG BUDGET MOVIES BETTER THAN LOW BUDGET ONES?"
   ]
  },
  {
   "cell_type": "markdown",
   "metadata": {},
   "source": [
    "## GETTING THE DATA"
   ]
  },
  {
   "cell_type": "code",
   "execution_count": null,
   "metadata": {},
   "outputs": [],
   "source": [
    "# Import pandas\n",
    "import pandas as pd\n",
    "\n",
    "# Read in dataset from csv files\n",
    "df_bank = pd.read_csv(\"US_inflation.csv\", skiprows=4 )\n",
    "df_movies = pd.read_csv(\"tmdb_5000_movies.csv\")\n",
    "\n",
    "# Inspect movies dataset\n",
    "print(df_movies.info())"
   ]
  },
  {
   "cell_type": "code",
   "execution_count": null,
   "metadata": {},
   "outputs": [],
   "source": [
    "# Assign columns we need to df_movies variable\n",
    "df_movies = df_movies[['budget', 'release_date', 'title', 'vote_average']]\n",
    "\n",
    "# Inspect movies dataframe\n",
    "print(df_movies.info())"
   ]
  },
  {
   "cell_type": "markdown",
   "metadata": {},
   "source": [
    "## CLEANING THE WORLD BANK DATA"
   ]
  },
  {
   "cell_type": "code",
   "execution_count": null,
   "metadata": {},
   "outputs": [],
   "source": [
    "# Select only USA row and transpose\n",
    "df_bank = df_bank.loc[df_bank['Country Code'] == 'USA']\n",
    "df_bank = df_bank.transpose()\n",
    "print(df_bank)"
   ]
  },
  {
   "cell_type": "code",
   "execution_count": null,
   "metadata": {},
   "outputs": [],
   "source": [
    "# Rename column\n",
    "df_bank.rename(columns = {249:'cpi_index'}, inplace=True)\n",
    "\n",
    "# Delete unwanted rows\n",
    "df_bank = df_bank.iloc[4:-1,]\n",
    "df_bank['year'] = df_bank.index\n",
    "\n",
    "# Set index to range\n",
    "number_of_rows = len(df_bank)\n",
    "s = pd.Index(list(range(number_of_rows)))\n",
    "df_bank = df_bank.set_index(s)\n",
    "\n",
    "# Inspect dataframe\n",
    "print(df_bank.head())\n",
    "print(df_bank.tail())"
   ]
  },
  {
   "cell_type": "markdown",
   "metadata": {},
   "source": [
    "## MERGING THE DATAFRAMES"
   ]
  },
  {
   "cell_type": "code",
   "execution_count": null,
   "metadata": {},
   "outputs": [],
   "source": [
    "# Convert month to type datetime\n",
    "df_movies['release_date'] = pd.to_datetime(df_movies['release_date'])\n",
    "\n",
    "# Create year column\n",
    "df_movies['year'] = df_movies['release_date'].dt.to_period('Y')\n",
    "\n",
    "# Align datatypes in year columns\n",
    "df_bank['year']=df_bank['year'].astype(str)\n",
    "df_movies['year']=df_movies['year'].astype(str)\n",
    "\n",
    "# Merge \n",
    "merged_df = pd.merge(df_movies, df_bank, how='left')\n",
    "\n",
    "# Inspect dataframe \n",
    "print(merged_df.info())"
   ]
  },
  {
   "cell_type": "markdown",
   "metadata": {},
   "source": [
    "## ADD NEW COLUMN BASED ON CALCULATION"
   ]
  },
  {
   "cell_type": "code",
   "execution_count": null,
   "metadata": {},
   "outputs": [],
   "source": [
    "# Add inflation adjusted column\n",
    "merged_df['adjusted_budget'] = \\\n",
    "    merged_df['budget']*merged_df['cpi_index']/100\n",
    "\n",
    "# Drop na values in dataframe\n",
    "merged_df = merged_df.dropna()\n",
    "\n",
    "# Drop zero values in budget column\n",
    "merged_df = merged_df.loc[merged_df['budget']!=0]\n",
    "print(merged_df.info())"
   ]
  },
  {
   "cell_type": "markdown",
   "metadata": {},
   "source": [
    "## VISUALIZATION AND ANALYSIS"
   ]
  },
  {
   "cell_type": "code",
   "execution_count": null,
   "metadata": {},
   "outputs": [],
   "source": [
    "# Import pyplot from matplotlib\n",
    "from matplotlib import pyplot as plt\n",
    "\n",
    "# Plot adj budget and vote average\n",
    "plt.scatter(\n",
    "    merged_df['adjusted_budget'],\n",
    "    merged_df['vote_average'],\n",
    "    c='black'\n",
    ")\n",
    "\n",
    "plt.xlabel(\"adjusted budget\")\n",
    "plt.ylabel(\"vote average\")\n",
    "plt.show()"
   ]
  },
  {
   "cell_type": "code",
   "execution_count": null,
   "metadata": {},
   "outputs": [],
   "source": [
    "# Split data into two groups\n",
    "avg_adj_budg = merged_df['adjusted_budget'].mean()\n",
    "print(f'The average adj budget for all movies is\\\n",
    "    ${avg_adj_budg:,.0f}\\n')\n",
    "less_than_ave = merged_df.loc[merged_df['adjusted_budget'] <= avg_adj_budg]\n",
    "more_than_ave = merged_df.loc[merged_df['adjusted_budget'] > avg_adj_budg]\n",
    "\n",
    "print('low budget')\n",
    "print(less_than_ave['vote_average'].describe())\n",
    "print('\\nhigh budget')\n",
    "print(more_than_ave['vote_average'].describe())"
   ]
  },
  {
   "cell_type": "markdown",
   "metadata": {},
   "source": [
    "## REGRESSION ANALYSIS"
   ]
  },
  {
   "cell_type": "code",
   "execution_count": null,
   "metadata": {},
   "outputs": [],
   "source": [
    "# Regression analysis\n",
    "from sklearn.linear_model import LinearRegression\n",
    "import statsmodels.api as sm\n",
    "\n",
    "X = merged_df['adjusted_budget'].values.reshape(-1,1)\n",
    "y = merged_df['vote_average'].values.reshape(-1,1)\n",
    "\n",
    "reg = LinearRegression()\n",
    "reg.fit(X, y)\n",
    "print(\"The linear model is: Y = {:.5} + {:.5}X\".format(reg.intercept_[0], reg.coef_[0][0]))\n",
    "\n",
    "predictions = reg.predict(X)\n",
    "plt.scatter(\n",
    "    merged_df['adjusted_budget'],\n",
    "    merged_df['vote_average'],\n",
    "    c='black'\n",
    ")\n",
    "plt.plot(\n",
    "    merged_df['adjusted_budget'],\n",
    "    predictions,\n",
    "    c='blue',\n",
    "    linewidth=2\n",
    ")\n",
    "\n",
    "plt.xlabel(\"adjusted budget\")\n",
    "plt.ylabel(\"vote average\")\n",
    "plt.show()"
   ]
  },
  {
   "cell_type": "code",
   "execution_count": null,
   "metadata": {},
   "outputs": [],
   "source": [
    "# Change datatype of adj budget column\n",
    "merged_df['adjusted_budget']=merged_df['adjusted_budget'].astype(float)\n",
    "\n",
    "# Create and print regression results\n",
    "X = merged_df['adjusted_budget']\n",
    "y = merged_df['vote_average']\n",
    "X2 = sm.add_constant(X)\n",
    "est = sm.OLS(y, X2)\n",
    "est2 = est.fit()\n",
    "print(est2.summary())"
   ]
  }
 ],
 "metadata": {
  "kernelspec": {
   "display_name": "Python 3",
   "language": "python",
   "name": "python3"
  },
  "language_info": {
   "codemirror_mode": {
    "name": "ipython",
    "version": 3
   },
   "file_extension": ".py",
   "mimetype": "text/x-python",
   "name": "python",
   "nbconvert_exporter": "python",
   "pygments_lexer": "ipython3",
   "version": "3.8.1"
  }
 },
 "nbformat": 4,
 "nbformat_minor": 4
}
